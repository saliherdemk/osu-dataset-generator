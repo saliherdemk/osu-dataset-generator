{
 "cells": [
  {
   "cell_type": "code",
   "execution_count": null,
   "id": "6642b822-c52d-44d2-ac95-1422c65a06ef",
   "metadata": {},
   "outputs": [],
   "source": [
    "import pandas as pd"
   ]
  },
  {
   "cell_type": "code",
   "execution_count": null,
   "id": "5b6d9737-5305-4391-86f7-a01fd223f90a",
   "metadata": {},
   "outputs": [],
   "source": [
    "df = pd.read_csv(\"/mnt/L-HDD/dataset/dataset.csv\", chunksize=4000000)"
   ]
  },
  {
   "cell_type": "code",
   "execution_count": null,
   "id": "ed4b2bec-0b3f-4d75-befa-edba647ef4e9",
   "metadata": {},
   "outputs": [],
   "source": [
    "for i, chunk in enumerate(df):\n",
    "    chunk.to_csv(f\"/mnt/L-HDD/dataset/splitted/splitted_{i}.csv\", index=False)"
   ]
  },
  {
   "cell_type": "code",
   "execution_count": null,
   "id": "232e23d7-5f1e-4f3b-8492-48ef31ab6e5f",
   "metadata": {},
   "outputs": [],
   "source": []
  }
 ],
 "metadata": {
  "kernelspec": {
   "display_name": "Python 3 (ipykernel)",
   "language": "python",
   "name": "python3"
  },
  "language_info": {
   "codemirror_mode": {
    "name": "ipython",
    "version": 3
   },
   "file_extension": ".py",
   "mimetype": "text/x-python",
   "name": "python",
   "nbconvert_exporter": "python",
   "pygments_lexer": "ipython3",
   "version": "3.13.2"
  }
 },
 "nbformat": 4,
 "nbformat_minor": 5
}
