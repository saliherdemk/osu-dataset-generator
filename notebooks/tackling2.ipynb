{
 "cells": [
  {
   "cell_type": "code",
   "execution_count": null,
   "id": "e3c7ca6e-3049-4f6b-a926-f271989118e2",
   "metadata": {},
   "outputs": [],
   "source": [
    "import torch\n",
    "from torch.utils.data import Dataset\n",
    "import pandas as pd\n",
    "import os\n",
    "import numpy as np\n",
    "\n",
    "class BeatmapDataset(Dataset):\n",
    "    def __init__(self, input_file, mel_folder):\n",
    "        self.df = pd.read_csv(input_file)\n",
    "        self.mel_folder = mel_folder\n",
    "\n",
    "    def __len__(self):\n",
    "        return len(self.df)\n",
    "\n",
    "    def __getitem__(self, idx):\n",
    "        row = self.df.iloc[idx]\n",
    "        beatmap_id = row[\"beatmap_id\"]\n",
    "        beatmapset_id = beatmap_id.split(\"-\")[0]\n",
    "\n",
    "        mel_path = os.path.join(self.mel_folder, f\"{beatmapset_id}.npy\")\n",
    "        mel = np.load(mel_path)\n",
    "        mel = torch.tensor(mel, dtype=torch.float)\n",
    "        print(mel.shape)\n",
    "\n",
    "        tokens = [int(t) for t in row[\"tokenized\"].split(',')]\n",
    "        tokens = torch.tensor(tokens, dtype=torch.long)\n",
    "\n",
    "        return mel, tokens"
   ]
  },
  {
   "cell_type": "code",
   "execution_count": null,
   "id": "5ef1660b-2822-43b2-be7f-27dd73204a96",
   "metadata": {},
   "outputs": [],
   "source": [
    "import numpy as np\n",
    "\n",
    "mel = np.load(\"/home/saliherdemk/osu-try/data/formatted/mels/7922.npy\")\n",
    "mel.shape"
   ]
  },
  {
   "cell_type": "code",
   "execution_count": null,
   "id": "43aafb03-dd08-4a2c-b591-4e8738fc06eb",
   "metadata": {},
   "outputs": [],
   "source": [
    "import numpy as np\n",
    "\n",
    "mel = np.load(\"/home/saliherdemk/osu-try/data/formatted/mels/10204.npy\")\n",
    "mel.shape"
   ]
  },
  {
   "cell_type": "code",
   "execution_count": null,
   "id": "6bcc887e-8c10-44e7-9678-18fe8a3c0d22",
   "metadata": {},
   "outputs": [],
   "source": [
    "from torch.utils.data import DataLoader\n",
    "\n",
    "csv_file = \"/home/saliherdemk/osu-try/data/formatted/encoded.csv\"\n",
    "mel_folder = \"/home/saliherdemk/osu-try/data/formatted/mels/\"\n",
    "\n",
    "dataset = BeatmapDataset(csv_file, mel_folder)\n",
    "\n",
    "dataloader = DataLoader(dataset, batch_size=32, shuffle=True)"
   ]
  },
  {
   "cell_type": "code",
   "execution_count": null,
   "id": "cb4576dc-48f5-455c-be00-3c0067dabf06",
   "metadata": {},
   "outputs": [],
   "source": [
    "for idx, data in dataloader:\n",
    "    print(idx,data)"
   ]
  },
  {
   "cell_type": "code",
   "execution_count": null,
   "id": "c2a08452-feca-4b0f-b860-98cd01969093",
   "metadata": {},
   "outputs": [],
   "source": [
    "import pandas as pd\n",
    "\n",
    "df = pd.read_csv(\"/home/saliherdemk/osu-try-dataset/formatted/encoded.csv\")"
   ]
  },
  {
   "cell_type": "code",
   "execution_count": null,
   "id": "eef6166e-4871-4786-baf8-1837f7587e84",
   "metadata": {},
   "outputs": [],
   "source": [
    "pd.options.display.max_rows = None"
   ]
  },
  {
   "cell_type": "code",
   "execution_count": null,
   "id": "cd4d0340-e9e9-4ee6-8373-8e9869bac133",
   "metadata": {},
   "outputs": [],
   "source": [
    "df"
   ]
  },
  {
   "cell_type": "code",
   "execution_count": null,
   "id": "f818d014-53c5-4b1b-be9e-8b720c62f6be",
   "metadata": {},
   "outputs": [],
   "source": [
    "text = \"<beatmap_start>,\"\n",
    "ids = [token for token in text.split(\",\") if len(token)]\n",
    "ids"
   ]
  },
  {
   "cell_type": "code",
   "execution_count": 5,
   "id": "777d7967-9686-48b4-86f3-bb626183d5a6",
   "metadata": {},
   "outputs": [],
   "source": [
    "import numpy as np\n",
    "\n",
    "a = np.load(\"/home/saliherdemk/osu-try-dataset/formatted/mels/4229_7.npy\")\n",
    "b = np.load(\"/home/saliherdemk/osu-try-dataset/formatted/mels/18779_9.npy\")\n"
   ]
  },
  {
   "cell_type": "code",
   "execution_count": 6,
   "id": "2e7354ac-1f16-40ca-a5ae-9f36ae8d7400",
   "metadata": {},
   "outputs": [
    {
     "data": {
      "text/plain": [
       "((512, 128), (512, 128))"
      ]
     },
     "execution_count": 6,
     "metadata": {},
     "output_type": "execute_result"
    }
   ],
   "source": [
    "a.shape, b.shape\n"
   ]
  },
  {
   "cell_type": "code",
   "execution_count": 7,
   "id": "f7139926-3f6c-42fe-a87f-69c988497a39",
   "metadata": {},
   "outputs": [
    {
     "data": {
      "text/plain": [
       "array([[-35.589306, -15.382883, -14.869236, ..., -53.917366, -57.329285,\n",
       "        -69.95265 ],\n",
       "       [-31.094816, -18.681942, -18.030474, ..., -50.625275, -53.4004  ,\n",
       "        -65.24948 ],\n",
       "       [-25.338524, -22.125801, -22.323944, ..., -42.237732, -44.19422 ,\n",
       "        -55.47326 ],\n",
       "       ...,\n",
       "       [  0.      ,   0.      ,   0.      , ...,   0.      ,   0.      ,\n",
       "          0.      ],\n",
       "       [  0.      ,   0.      ,   0.      , ...,   0.      ,   0.      ,\n",
       "          0.      ],\n",
       "       [  0.      ,   0.      ,   0.      , ...,   0.      ,   0.      ,\n",
       "          0.      ]], shape=(512, 128), dtype=float32)"
      ]
     },
     "execution_count": 7,
     "metadata": {},
     "output_type": "execute_result"
    }
   ],
   "source": [
    "a"
   ]
  },
  {
   "cell_type": "code",
   "execution_count": 8,
   "id": "9ea81ab2-cba4-4c6d-8a83-b9a94b14f6a2",
   "metadata": {},
   "outputs": [
    {
     "data": {
      "text/plain": [
       "array([[-20.117947, -18.944096, -15.781652, ..., -80.      , -80.      ,\n",
       "        -80.      ],\n",
       "       [-18.093306, -17.523674, -16.785995, ..., -80.      , -80.      ,\n",
       "        -80.      ],\n",
       "       [-17.765316, -17.544176, -16.488117, ..., -80.      , -80.      ,\n",
       "        -80.      ],\n",
       "       ...,\n",
       "       [  0.      ,   0.      ,   0.      , ...,   0.      ,   0.      ,\n",
       "          0.      ],\n",
       "       [  0.      ,   0.      ,   0.      , ...,   0.      ,   0.      ,\n",
       "          0.      ],\n",
       "       [  0.      ,   0.      ,   0.      , ...,   0.      ,   0.      ,\n",
       "          0.      ]], shape=(512, 128), dtype=float32)"
      ]
     },
     "execution_count": 8,
     "metadata": {},
     "output_type": "execute_result"
    }
   ],
   "source": [
    "b"
   ]
  },
  {
   "cell_type": "code",
   "execution_count": 31,
   "id": "a05a0e73-2539-4672-b23e-7970cc8fc94c",
   "metadata": {},
   "outputs": [
    {
     "name": "stderr",
     "output_type": "stream",
     "text": [
      "  0%|                                                                                                                                                                                      | 0/120 [00:00<?, ?it/s]"
     ]
    },
    {
     "name": "stdout",
     "output_type": "stream",
     "text": [
      "Couldn't find .osu file in /home/saliherdemk/a/beatmapset-38720 You may need to add manually.\n"
     ]
    },
    {
     "name": "stderr",
     "output_type": "stream",
     "text": [
      "100%|████████████████████████████████████████████████████████████████████████████████████████████████████████████████████████████████████████████████████████████████████████████| 120/120 [01:03<00:00,  1.89it/s]\n"
     ]
    }
   ],
   "source": [
    "import os\n",
    "from tqdm import tqdm\n",
    "import shutil\n",
    "\n",
    "input_folder = \"/home/saliherdemk/a/\"\n",
    "dataset_path = \"/home/saliherdemk/osu-dataset/\"\n",
    "\n",
    "beatmap_folders = [\n",
    "    entry\n",
    "    for entry in os.listdir(input_folder)\n",
    "    if os.path.isdir(os.path.join(input_folder, entry))\n",
    "]\n",
    "\n",
    "for entry in tqdm(beatmap_folders):\n",
    "    entry_path = os.path.join(input_folder, entry)\n",
    "    audio_files = [\n",
    "        f\n",
    "        for f in os.listdir(entry_path)\n",
    "        if f.lower().endswith((\".mp3\", \".ogg\"))\n",
    "    ]\n",
    "    audio_folder = os.path.join(dataset_path, \"audio\", entry.split(\"-\")[1])\n",
    "    os.makedirs(audio_folder, exist_ok=True)\n",
    "\n",
    "    try:\n",
    "        osu_file = [\n",
    "            f for f in os.listdir(entry_path) if f.lower().endswith((\".osu\"))\n",
    "        ][0]\n",
    "    except:\n",
    "        print(\n",
    "            \"Couldn't find .osu file in\",\n",
    "            entry_path,\n",
    "            \"You may need to add manually.\",\n",
    "        )\n",
    "        continue\n",
    "\n",
    "    audio_files = {f.lower(): f for f in os.listdir(entry_path)}\n",
    "\n",
    "    audio_filename = \"\"\n",
    "\n",
    "    with open(os.path.join(entry_path, osu_file), \"r\", encoding=\"utf-8\") as f:\n",
    "        lines = f.readlines()\n",
    "    for line in lines:\n",
    "        if line.startswith(\"AudioFilename\"):\n",
    "            audio_filename = line.split(\":\")[1].strip().lower()\n",
    "            continue\n",
    "\n",
    "    audio_file = audio_files[audio_filename.lower()]\n",
    "    \n",
    "    shutil.copy2(\n",
    "        os.path.join(entry_path, audio_file),\n",
    "        os.path.join(audio_folder, audio_file),\n",
    "    )\n",
    "    shutil.rmtree(entry_path)\n",
    "    # 7231\n"
   ]
  },
  {
   "cell_type": "code",
   "execution_count": 1,
   "id": "18467005-ec2b-4a9c-a6e1-f6027315683f",
   "metadata": {},
   "outputs": [],
   "source": [
    "exclude = [\"811908\", \"685725\", \"25637\", \"38720\"]"
   ]
  },
  {
   "cell_type": "code",
   "execution_count": 19,
   "id": "b10f9560-393d-42e7-bc5d-930aa8efe64c",
   "metadata": {},
   "outputs": [],
   "source": [
    "import pandas as pd"
   ]
  },
  {
   "cell_type": "code",
   "execution_count": 20,
   "id": "8d59b9ec-a885-407d-8e24-48e58844ff85",
   "metadata": {},
   "outputs": [],
   "source": [
    "beatmap_df = pd.read_csv(\"/home/saliherdemk/osu-dataset/beatmaps.csv\")\n",
    "hit_objects_df = pd.read_csv(\"/home/saliherdemk/osu-dataset/hit_objects.csv\")\n",
    "timing_points_df = pd.read_csv(\"/home/saliherdemk/osu-dataset/timing_points.csv\")"
   ]
  },
  {
   "cell_type": "code",
   "execution_count": 21,
   "id": "795f9a97-849e-4de3-b0c9-e9e1b971f7af",
   "metadata": {},
   "outputs": [],
   "source": [
    "beatmap_df_new = beatmap_df[~beatmap_df[\"id\"].str.split(\"-\").str[0].isin(exclude)]\n",
    "hit_objects_df_new = hit_objects_df[~hit_objects_df[\"id\"].str.split(\"-\").str[0].isin(exclude)]\n",
    "timing_points_df_new = timing_points_df[~timing_points_df[\"id\"].str.split(\"-\").str[0].isin(exclude)]"
   ]
  },
  {
   "cell_type": "code",
   "execution_count": 24,
   "id": "7495bbd0-09bd-49ef-8d3d-f75e82a17ce6",
   "metadata": {},
   "outputs": [
    {
     "data": {
      "text/plain": [
       "(2722447, 2722447)"
      ]
     },
     "execution_count": 24,
     "metadata": {},
     "output_type": "execute_result"
    }
   ],
   "source": [
    "len(timing_points_df_new), len(timing_points_df)"
   ]
  },
  {
   "cell_type": "code",
   "execution_count": null,
   "id": "1e091a6b-abfe-4cf2-8319-b32b5dd72acd",
   "metadata": {},
   "outputs": [],
   "source": []
  }
 ],
 "metadata": {
  "kernelspec": {
   "display_name": "Python 3 (ipykernel)",
   "language": "python",
   "name": "python3"
  },
  "language_info": {
   "codemirror_mode": {
    "name": "ipython",
    "version": 3
   },
   "file_extension": ".py",
   "mimetype": "text/x-python",
   "name": "python",
   "nbconvert_exporter": "python",
   "pygments_lexer": "ipython3",
   "version": "3.12.6"
  }
 },
 "nbformat": 4,
 "nbformat_minor": 5
}
