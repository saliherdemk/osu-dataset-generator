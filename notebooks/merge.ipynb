{
 "cells": [
  {
   "cell_type": "code",
   "execution_count": null,
   "id": "3fefbbfd-f18e-4f44-8582-86c802c943e4",
   "metadata": {},
   "outputs": [],
   "source": [
    "import os\n",
    "import pandas as pd\n",
    "\n",
    "def merge_datasets(dataset_one, dataset_two, output_file):\n",
    "\n",
    "    file_one = os.path.join(dataset_one, \"hit_objects_formatted.csv\")\n",
    "    file_two = os.path.join(dataset_two, \"hit_objects_formatted.csv\")\n",
    "\n",
    "    df_one = pd.read_csv(file_one)\n",
    "    df_two = pd.read_csv(file_two)\n",
    "    \n",
    "    new_rows = df_two[~df_two[\"ID\"].isin(df_one[\"ID\"])]\n",
    "    merged = pd.concat([df_one, new_rows], ignore_index=True)\n",
    "    merged = merged.sort_values(by=\"ID\").reset_index(drop=True)\n",
    "    merged[\"unique_id\"] = range(len(merged))\n",
    "\n",
    "    merged.to_csv(output_file, index=False)\n",
    "\n",
    "    print(\"Merged file saved on\", output_file)\n",
    "    \n"
   ]
  },
  {
   "cell_type": "code",
   "execution_count": null,
   "id": "c8a2fc3f-16d1-45dc-a21d-0b8d27e7e857",
   "metadata": {},
   "outputs": [],
   "source": [
    "merge_datasets(\"/mnt/L-HDD/dataset\", \"/mnt/L-HDD/new_data\", \"/mnt/L-HDD/merged.csv\")"
   ]
  },
  {
   "cell_type": "code",
   "execution_count": null,
   "id": "228e7789-11ff-4d09-bad2-ff9ae3763aba",
   "metadata": {},
   "outputs": [],
   "source": []
  }
 ],
 "metadata": {
  "kernelspec": {
   "display_name": "Python 3 (ipykernel)",
   "language": "python",
   "name": "python3"
  },
  "language_info": {
   "codemirror_mode": {
    "name": "ipython",
    "version": 3
   },
   "file_extension": ".py",
   "mimetype": "text/x-python",
   "name": "python",
   "nbconvert_exporter": "python",
   "pygments_lexer": "ipython3",
   "version": "3.13.2"
  }
 },
 "nbformat": 4,
 "nbformat_minor": 5
}
