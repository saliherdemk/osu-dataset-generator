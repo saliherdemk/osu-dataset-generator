{
 "cells": [
  {
   "cell_type": "code",
   "execution_count": 1,
   "id": "3fefbbfd-f18e-4f44-8582-86c802c943e4",
   "metadata": {},
   "outputs": [],
   "source": [
    "import os\n",
    "import pandas as pd"
   ]
  },
  {
   "cell_type": "code",
   "execution_count": 2,
   "id": "c8a2fc3f-16d1-45dc-a21d-0b8d27e7e857",
   "metadata": {},
   "outputs": [],
   "source": [
    "file_one = \"/mnt/L-HDD/Downloads/formatted.csv\"\n",
    "file_two = \"/mnt/L-HDD/Downloads/formatted1.csv\""
   ]
  },
  {
   "cell_type": "code",
   "execution_count": 19,
   "id": "38c26831-3500-4fe4-8479-3e4325df937b",
   "metadata": {},
   "outputs": [],
   "source": [
    "df_one = pd.read_csv(file_one, chunksize = 500000)\n",
    "df_two = pd.read_csv(file_two, chunksize = 500000)"
   ]
  },
  {
   "cell_type": "code",
   "execution_count": 11,
   "id": "228e7789-11ff-4d09-bad2-ff9ae3763aba",
   "metadata": {},
   "outputs": [],
   "source": [
    "df_one_ids = []\n",
    "for chunk in df_one:\n",
    "    df_one_ids = df_one_ids + list(chunk[\"id\"].unique())"
   ]
  },
  {
   "cell_type": "code",
   "execution_count": 12,
   "id": "7bae35e5-40d7-4d91-a6d4-2221ad2a8831",
   "metadata": {},
   "outputs": [],
   "source": [
    "df_two_ids = []\n",
    "for chunk in df_two:\n",
    "    df_two_ids = df_two_ids + list(chunk[\"id\"].unique())"
   ]
  },
  {
   "cell_type": "code",
   "execution_count": 18,
   "id": "de60d95e-132e-4c5b-b765-428083096b63",
   "metadata": {},
   "outputs": [],
   "source": [
    "for id_ in df_one_ids:\n",
    "    if id_ in df_two_ids:\n",
    "        print(f\"Common element found: {id_}\")"
   ]
  },
  {
   "cell_type": "code",
   "execution_count": 20,
   "id": "e1c85145-07ce-477b-999a-4f0eabf059fc",
   "metadata": {},
   "outputs": [],
   "source": [
    "merged_path = \"/mnt/L-HDD/Downloads/merged.csv\" # I copied first file as merged.csv"
   ]
  }
 ],
 "metadata": {
  "kernelspec": {
   "display_name": "Python 3 (ipykernel)",
   "language": "python",
   "name": "python3"
  },
  "language_info": {
   "codemirror_mode": {
    "name": "ipython",
    "version": 3
   },
   "file_extension": ".py",
   "mimetype": "text/x-python",
   "name": "python",
   "nbconvert_exporter": "python",
   "pygments_lexer": "ipython3",
   "version": "3.13.2"
  }
 },
 "nbformat": 4,
 "nbformat_minor": 5
}
