{
 "cells": [
  {
   "cell_type": "code",
   "execution_count": 1,
   "id": "07ac4629-f0cd-434d-9b13-5e6030f529c7",
   "metadata": {},
   "outputs": [
    {
     "ename": "SyntaxError",
     "evalue": "expected ':' (1963475530.py, line 2)",
     "output_type": "error",
     "traceback": [
      "  \u001b[36mCell\u001b[39m\u001b[36m \u001b[39m\u001b[32mIn[1]\u001b[39m\u001b[32m, line 2\u001b[39m\n\u001b[31m    \u001b[39m\u001b[31mdef __init__(self, encoded_csv, mel_folder, tok2id_path, )\u001b[39m\n                                                              ^\n\u001b[31mSyntaxError\u001b[39m\u001b[31m:\u001b[39m expected ':'\n"
     ]
    }
   ],
   "source": [
    "class BeatmapDataset(Dataset):\n",
    "    def __init__(self, encoded_csv, mel_folder, tok2id_path, )"
   ]
  },
  {
   "cell_type": "code",
   "execution_count": 11,
   "id": "bcc2d1ff-db06-46b5-93d2-b118eaa1382e",
   "metadata": {},
   "outputs": [
    {
     "data": {
      "text/plain": [
       "np.float64(471.8176470588235)"
      ]
     },
     "execution_count": 11,
     "metadata": {},
     "output_type": "execute_result"
    }
   ],
   "source": [
    "import pandas as pd\n",
    "\n",
    "df = pd.read_csv(\"/home/saliherdemk/osu-dataset/formatted/encoded.csv\")\n",
    "df[\"tokenized\"].apply(lambda x: len(x.split(\",\"))).mean()"
   ]
  },
  {
   "cell_type": "code",
   "execution_count": null,
   "id": "25ea3995-0ca7-428f-9425-0def5fcf1e0f",
   "metadata": {},
   "outputs": [],
   "source": []
  }
 ],
 "metadata": {
  "kernelspec": {
   "display_name": "Python 3 (ipykernel)",
   "language": "python",
   "name": "python3"
  },
  "language_info": {
   "codemirror_mode": {
    "name": "ipython",
    "version": 3
   },
   "file_extension": ".py",
   "mimetype": "text/x-python",
   "name": "python",
   "nbconvert_exporter": "python",
   "pygments_lexer": "ipython3",
   "version": "3.12.6"
  }
 },
 "nbformat": 4,
 "nbformat_minor": 5
}
