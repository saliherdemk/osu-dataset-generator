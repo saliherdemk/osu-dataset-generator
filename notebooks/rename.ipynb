{
 "cells": [
  {
   "cell_type": "code",
   "execution_count": 1,
   "id": "75bae9f0-2a12-4f2f-a9d4-118ad6d57146",
   "metadata": {},
   "outputs": [],
   "source": [
    "# kaggle can't import the files that contains special characthers\n",
    "\n",
    "import os"
   ]
  },
  {
   "cell_type": "code",
   "execution_count": 19,
   "id": "1e8ffad1-cb6f-4a33-abef-80414a031041",
   "metadata": {},
   "outputs": [
    {
     "name": "stdout",
     "output_type": "stream",
     "text": [
      "Done\n"
     ]
    }
   ],
   "source": [
    "audio_folder = \"/mnt/L-HDD/dataset/audio\"\n",
    "for folder in os.listdir(audio_folder):\n",
    "    folder_path = os.path.join(audio_folder, folder)\n",
    "    file_path = os.path.join(folder_path, os.listdir(folder_path)[0])\n",
    "    extension = file_path.split(\".\")[-1]\n",
    "    os.rename(file_path, os.path.join(folder_path, f\"audio.{extension}\"))\n",
    "print(\"Done\")"
   ]
  },
  {
   "cell_type": "code",
   "execution_count": null,
   "id": "29d623dd-32ce-4dd9-8205-3894cdf63c86",
   "metadata": {},
   "outputs": [],
   "source": []
  }
 ],
 "metadata": {
  "kernelspec": {
   "display_name": "Python 3 (ipykernel)",
   "language": "python",
   "name": "python3"
  },
  "language_info": {
   "codemirror_mode": {
    "name": "ipython",
    "version": 3
   },
   "file_extension": ".py",
   "mimetype": "text/x-python",
   "name": "python",
   "nbconvert_exporter": "python",
   "pygments_lexer": "ipython3",
   "version": "3.13.2"
  }
 },
 "nbformat": 4,
 "nbformat_minor": 5
}
