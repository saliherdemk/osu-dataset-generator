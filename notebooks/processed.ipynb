{
 "cells": [
  {
   "cell_type": "code",
   "execution_count": 1,
   "id": "f558835d-2a45-473f-b9e0-db694bd2b8c0",
   "metadata": {},
   "outputs": [],
   "source": [
    "import pandas as pd"
   ]
  },
  {
   "cell_type": "code",
   "execution_count": null,
   "id": "5b8d97d8-7904-4c20-bee8-985a2dadedaa",
   "metadata": {},
   "outputs": [],
   "source": [
    "df = pd.read_csv(\"/mnt/L-HDD/Downloads/merged.csv\", chunksize=5000000)"
   ]
  },
  {
   "cell_type": "code",
   "execution_count": null,
   "id": "34f280ca-b104-4889-9a0d-55541687be1c",
   "metadata": {},
   "outputs": [],
   "source": [
    "ids = []\n",
    "for chunk in df:\n",
    "    ids = ids + list(chunk[\"beatmap_id\"].unique())"
   ]
  },
  {
   "cell_type": "code",
   "execution_count": null,
   "id": "760371d0-a562-46d3-a95c-67f0a7c2b5e7",
   "metadata": {},
   "outputs": [],
   "source": [
    "setid = list(set(ids))"
   ]
  },
  {
   "cell_type": "code",
   "execution_count": null,
   "id": "ece78c96-1605-4400-b619-f279b1ae5835",
   "metadata": {},
   "outputs": [],
   "source": [
    "with open(\"/mnt/L-HDD/Downloads/processed.txt\", \"w\") as f:\n",
    "    for item in setid:\n",
    "        f.write(f\"{item}\\n\")"
   ]
  }
 ],
 "metadata": {
  "kernelspec": {
   "display_name": "Python 3 (ipykernel)",
   "language": "python",
   "name": "python3"
  },
  "language_info": {
   "codemirror_mode": {
    "name": "ipython",
    "version": 3
   },
   "file_extension": ".py",
   "mimetype": "text/x-python",
   "name": "python",
   "nbconvert_exporter": "python",
   "pygments_lexer": "ipython3",
   "version": "3.13.3"
  }
 },
 "nbformat": 4,
 "nbformat_minor": 5
}
