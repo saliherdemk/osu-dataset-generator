{
 "cells": [
  {
   "cell_type": "code",
   "execution_count": 1,
   "id": "f2156921-4d99-489a-bf4e-76ae32bc2d88",
   "metadata": {},
   "outputs": [],
   "source": [
    "import pandas as pd"
   ]
  },
  {
   "cell_type": "code",
   "execution_count": 2,
   "id": "47606297-75a2-441a-bd17-157a70a2ba8d",
   "metadata": {},
   "outputs": [],
   "source": [
    "df = pd.read_csv(\"/mnt/L-HDD/try_dataset/normalized.csv\")"
   ]
  },
  {
   "cell_type": "code",
   "execution_count": 4,
   "id": "95e3ad65-5634-46bb-9554-655278dc5b3f",
   "metadata": {},
   "outputs": [],
   "source": [
    "groups = df.groupby(\"id\")"
   ]
  },
  {
   "cell_type": "code",
   "execution_count": 5,
   "id": "5b249971-3f40-4d4e-a6e0-312b49f7b4ca",
   "metadata": {},
   "outputs": [],
   "source": [
    "import os\n",
    "output_folder = \"/mnt/L-HDD/try_dataset/beatmaps/\"\n",
    "\n",
    "os.makedirs(output_folder, exist_ok = True)"
   ]
  },
  {
   "cell_type": "code",
   "execution_count": 7,
   "id": "124c6f36-a76f-43fe-b73c-1afea97e1da9",
   "metadata": {},
   "outputs": [],
   "source": [
    "for i, group in groups:\n",
    "    group.to_csv(f\"{output_folder + i}.csv\")"
   ]
  },
  {
   "cell_type": "code",
   "execution_count": null,
   "id": "558814cd-2293-4388-b103-447d4eba7a94",
   "metadata": {},
   "outputs": [],
   "source": []
  }
 ],
 "metadata": {
  "kernelspec": {
   "display_name": "Python 3 (ipykernel)",
   "language": "python",
   "name": "python3"
  },
  "language_info": {
   "codemirror_mode": {
    "name": "ipython",
    "version": 3
   },
   "file_extension": ".py",
   "mimetype": "text/x-python",
   "name": "python",
   "nbconvert_exporter": "python",
   "pygments_lexer": "ipython3",
   "version": "3.12.6"
  }
 },
 "nbformat": 4,
 "nbformat_minor": 5
}
