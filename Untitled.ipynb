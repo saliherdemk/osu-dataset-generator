{
 "cells": [
  {
   "cell_type": "code",
   "execution_count": 1,
   "id": "cf7888d6-b146-4590-b714-48112e2a5c76",
   "metadata": {},
   "outputs": [
    {
     "data": {
      "text/plain": [
       "array([10, 11, 12, 13, 14, 15, 16, 17, 18, 19, 20])"
      ]
     },
     "execution_count": 1,
     "metadata": {},
     "output_type": "execute_result"
    }
   ],
   "source": [
    "import numpy as np\n",
    "\n",
    "np.array([i for i in range(10,21)])"
   ]
  },
  {
   "cell_type": "code",
   "execution_count": null,
   "id": "3b4ed55d-1a1c-47a7-acd9-ee93c30ede6c",
   "metadata": {},
   "outputs": [],
   "source": [
    "np.rand(3,3)"
   ]
  }
 ],
 "metadata": {
  "kernelspec": {
   "display_name": "Python 3 (ipykernel)",
   "language": "python",
   "name": "python3"
  },
  "language_info": {
   "codemirror_mode": {
    "name": "ipython",
    "version": 3
   },
   "file_extension": ".py",
   "mimetype": "text/x-python",
   "name": "python",
   "nbconvert_exporter": "python",
   "pygments_lexer": "ipython3",
   "version": "3.12.6"
  }
 },
 "nbformat": 4,
 "nbformat_minor": 5
}
